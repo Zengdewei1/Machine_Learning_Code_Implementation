{
 "cells": [
  {
   "cell_type": "code",
   "execution_count": 1,
   "metadata": {},
   "outputs": [],
   "source": [
    "import numpy as np"
   ]
  },
  {
   "cell_type": "code",
   "execution_count": 13,
   "metadata": {},
   "outputs": [],
   "source": [
    "### 定义模型主体部分\n",
    "### 包括线性回归公式、均方损失和参数偏导三部分\n",
    "def linear_loss(X, y, w, b):\n",
    "    num_train = X.shape[0]\n",
    "\n",
    "    y_hat = np.dot(X, w) + b\n",
    "    loss = np.sum((y - y_hat) ** 2) / num_train\n",
    "\n",
    "    dw = np.dot(X.T, (y_hat - y)) / num_train\n",
    "    db = np.sum((y_hat - y)) / num_train\n",
    "\n",
    "    return y_hat, loss, dw, db\n",
    "    "
   ]
  },
  {
   "cell_type": "code",
   "execution_count": 3,
   "metadata": {},
   "outputs": [],
   "source": [
    "def init_parameters(dims):\n",
    "    w = np.zeros((dims, 1))\n",
    "    b = 0\n",
    "    return w, b"
   ]
  },
  {
   "cell_type": "code",
   "execution_count": 9,
   "metadata": {},
   "outputs": [],
   "source": [
    "def linear_train(X, y, lr=0.01, epoches=10000):\n",
    "    loss_his = []\n",
    "    w, b = init_parameters(X.shape[1])\n",
    "    for i in range(epoches):\n",
    "        y_hat, loss, dw, db = linear_loss(X, y, w, b)\n",
    "\n",
    "        w += -lr * dw\n",
    "        b += -lr * db\n",
    "        loss_his.append(loss)\n",
    "        # 每1000次迭代打印当前损失信息\n",
    "        if i % 1000 == 0:\n",
    "            print('epoch %d loss %f' % (i, loss))\n",
    "\n",
    "         # 将当前迭代步优化后的参数保存到字典\n",
    "        params = {\n",
    "            'w': w,\n",
    "            'b': b\n",
    "        }\n",
    "        # 将当前迭代步的梯度保存到字典\n",
    "        grads = {\n",
    "            'dw': dw,\n",
    "            'db': db\n",
    "        }     \n",
    "\n",
    "    return loss_his, params, grads\n",
    "\n"
   ]
  },
  {
   "cell_type": "code",
   "execution_count": 5,
   "metadata": {},
   "outputs": [
    {
     "name": "stdout",
     "output_type": "stream",
     "text": [
      "(442, 10)\n",
      "(442,)\n",
      "[[ 0.03807591  0.05068012  0.06169621  0.02187239 -0.0442235  -0.03482076\n",
      "  -0.04340085 -0.00259226  0.01990749 -0.01764613]\n",
      " [-0.00188202 -0.04464164 -0.05147406 -0.02632753 -0.00844872 -0.01916334\n",
      "   0.07441156 -0.03949338 -0.06833155 -0.09220405]\n",
      " [ 0.08529891  0.05068012  0.04445121 -0.00567042 -0.04559945 -0.03419447\n",
      "  -0.03235593 -0.00259226  0.00286131 -0.02593034]\n",
      " [-0.08906294 -0.04464164 -0.01159501 -0.03665608  0.01219057  0.02499059\n",
      "  -0.03603757  0.03430886  0.02268774 -0.00936191]\n",
      " [ 0.00538306 -0.04464164 -0.03638469  0.02187239  0.00393485  0.01559614\n",
      "   0.00814208 -0.00259226 -0.03198764 -0.04664087]]\n",
      "[151.  75. 141. 206. 135.]\n"
     ]
    }
   ],
   "source": [
    "from sklearn.datasets import load_diabetes\n",
    "diabetes = load_diabetes()\n",
    "data = diabetes.data\n",
    "target = diabetes.target \n",
    "print(data.shape)\n",
    "print(target.shape)\n",
    "print(data[:5])\n",
    "print(target[:5])"
   ]
  },
  {
   "cell_type": "code",
   "execution_count": 7,
   "metadata": {},
   "outputs": [
    {
     "name": "stdout",
     "output_type": "stream",
     "text": [
      "X_train's shape:  (353, 10)\n",
      "X_test's shape:  (89, 10)\n",
      "y_train's shape:  (353, 1)\n",
      "y_test's shape:  (89, 1)\n"
     ]
    }
   ],
   "source": [
    "# 导入sklearn diabetes数据接口\n",
    "from sklearn.datasets import load_diabetes\n",
    "# 导入sklearn打乱数据函数\n",
    "from sklearn.utils import shuffle\n",
    "# 获取diabetes数据集\n",
    "diabetes = load_diabetes()\n",
    "# 获取输入和标签\n",
    "data, target = diabetes.data, diabetes.target \n",
    "# 打乱数据集\n",
    "X, y = shuffle(data, target, random_state=13)\n",
    "# 按照8/2划分训练集和测试集\n",
    "offset = int(X.shape[0] * 0.8)\n",
    "# 训练集\n",
    "X_train, y_train = X[:offset], y[:offset]\n",
    "# 测试集\n",
    "X_test, y_test = X[offset:], y[offset:]\n",
    "# 将训练集改为列向量的形式\n",
    "y_train = y_train.reshape((-1,1))\n",
    "# 将验证集改为列向量的形式\n",
    "y_test = y_test.reshape((-1,1))\n",
    "# 打印训练集和测试集维度\n",
    "print(\"X_train's shape: \", X_train.shape)\n",
    "print(\"X_test's shape: \", X_test.shape)\n",
    "print(\"y_train's shape: \", y_train.shape)\n",
    "print(\"y_test's shape: \", y_test.shape)"
   ]
  },
  {
   "cell_type": "code",
   "execution_count": null,
   "metadata": {},
   "outputs": [],
   "source": []
  },
  {
   "cell_type": "code",
   "execution_count": 15,
   "metadata": {},
   "outputs": [
    {
     "name": "stdout",
     "output_type": "stream",
     "text": [
      "epoch 0 loss 28045.572238\n",
      "epoch 1000 loss 5208.840650\n",
      "epoch 2000 loss 4913.011192\n",
      "epoch 3000 loss 4662.297544\n",
      "epoch 4000 loss 4449.260266\n",
      "epoch 5000 loss 4267.715592\n",
      "epoch 6000 loss 4112.521979\n",
      "epoch 7000 loss 3979.403042\n",
      "epoch 8000 loss 3864.800655\n",
      "epoch 9000 loss 3765.753062\n",
      "epoch 10000 loss 3679.793734\n",
      "epoch 11000 loss 3604.867455\n",
      "epoch 12000 loss 3539.260672\n",
      "epoch 13000 loss 3481.543709\n",
      "epoch 14000 loss 3430.522796\n",
      "epoch 15000 loss 3385.200263\n",
      "epoch 16000 loss 3344.741490\n",
      "epoch 17000 loss 3308.447478\n",
      "epoch 18000 loss 3275.732074\n",
      "epoch 19000 loss 3246.103056\n",
      "epoch 20000 loss 3219.146433\n",
      "epoch 21000 loss 3194.513397\n",
      "epoch 22000 loss 3171.909490\n",
      "epoch 23000 loss 3151.085597\n",
      "epoch 24000 loss 3131.830465\n",
      "epoch 25000 loss 3113.964485\n",
      "epoch 26000 loss 3097.334513\n",
      "epoch 27000 loss 3081.809574\n",
      "epoch 28000 loss 3067.277276\n",
      "epoch 29000 loss 3053.640833\n",
      "epoch 30000 loss 3040.816582\n",
      "epoch 31000 loss 3028.731912\n",
      "epoch 32000 loss 3017.323541\n",
      "epoch 33000 loss 3006.536077\n",
      "epoch 34000 loss 2996.320814\n",
      "epoch 35000 loss 2986.634727\n",
      "epoch 36000 loss 2977.439636\n",
      "epoch 37000 loss 2968.701498\n",
      "epoch 38000 loss 2960.389815\n",
      "epoch 39000 loss 2952.477146\n",
      "epoch 40000 loss 2944.938683\n",
      "epoch 41000 loss 2937.751902\n",
      "epoch 42000 loss 2930.896268\n",
      "epoch 43000 loss 2924.352984\n",
      "epoch 44000 loss 2918.104778\n",
      "epoch 45000 loss 2912.135722\n",
      "epoch 46000 loss 2906.431082\n",
      "epoch 47000 loss 2900.977180\n",
      "epoch 48000 loss 2895.761289\n",
      "epoch 49000 loss 2890.771531\n",
      "epoch 50000 loss 2885.996794\n",
      "epoch 51000 loss 2881.426664\n",
      "epoch 52000 loss 2877.051356\n",
      "epoch 53000 loss 2872.861664\n",
      "epoch 54000 loss 2868.848908\n",
      "epoch 55000 loss 2865.004899\n",
      "epoch 56000 loss 2861.321892\n",
      "epoch 57000 loss 2857.792560\n",
      "epoch 58000 loss 2854.409963\n",
      "epoch 59000 loss 2851.167519\n",
      "epoch 60000 loss 2848.058979\n",
      "epoch 61000 loss 2845.078411\n",
      "epoch 62000 loss 2842.220176\n",
      "epoch 63000 loss 2839.478908\n",
      "epoch 64000 loss 2836.849505\n",
      "epoch 65000 loss 2834.327105\n",
      "epoch 66000 loss 2831.907079\n",
      "epoch 67000 loss 2829.585016\n",
      "epoch 68000 loss 2827.356708\n",
      "epoch 69000 loss 2825.218145\n",
      "epoch 70000 loss 2823.165501\n",
      "epoch 71000 loss 2821.195122\n",
      "epoch 72000 loss 2819.303523\n",
      "epoch 73000 loss 2817.487376\n",
      "epoch 74000 loss 2815.743502\n",
      "epoch 75000 loss 2814.068864\n",
      "epoch 76000 loss 2812.460561\n",
      "epoch 77000 loss 2810.915821\n",
      "epoch 78000 loss 2809.431994\n",
      "epoch 79000 loss 2808.006546\n",
      "epoch 80000 loss 2806.637056\n",
      "epoch 81000 loss 2805.321208\n",
      "epoch 82000 loss 2804.056785\n",
      "epoch 83000 loss 2802.841669\n",
      "epoch 84000 loss 2801.673832\n",
      "epoch 85000 loss 2800.551336\n",
      "epoch 86000 loss 2799.472323\n",
      "epoch 87000 loss 2798.435017\n",
      "epoch 88000 loss 2797.437717\n",
      "epoch 89000 loss 2796.478796\n",
      "epoch 90000 loss 2795.556696\n",
      "epoch 91000 loss 2794.669923\n",
      "epoch 92000 loss 2793.817050\n",
      "epoch 93000 loss 2792.996707\n",
      "epoch 94000 loss 2792.207583\n",
      "epoch 95000 loss 2791.448423\n",
      "epoch 96000 loss 2790.718025\n",
      "epoch 97000 loss 2790.015235\n",
      "epoch 98000 loss 2789.338950\n",
      "epoch 99000 loss 2788.688111\n",
      "epoch 100000 loss 2788.061704\n",
      "epoch 101000 loss 2787.458757\n",
      "epoch 102000 loss 2786.878340\n",
      "epoch 103000 loss 2786.319558\n",
      "epoch 104000 loss 2785.781555\n",
      "epoch 105000 loss 2785.263511\n",
      "epoch 106000 loss 2784.764639\n",
      "epoch 107000 loss 2784.284184\n",
      "epoch 108000 loss 2783.821422\n",
      "epoch 109000 loss 2783.375659\n",
      "epoch 110000 loss 2782.946229\n",
      "epoch 111000 loss 2782.532495\n",
      "epoch 112000 loss 2782.133842\n",
      "epoch 113000 loss 2781.749684\n",
      "epoch 114000 loss 2781.379456\n",
      "epoch 115000 loss 2781.022619\n",
      "epoch 116000 loss 2780.678651\n",
      "epoch 117000 loss 2780.347056\n",
      "epoch 118000 loss 2780.027355\n",
      "epoch 119000 loss 2779.719089\n",
      "epoch 120000 loss 2779.421818\n",
      "epoch 121000 loss 2779.135119\n",
      "epoch 122000 loss 2778.858586\n",
      "epoch 123000 loss 2778.591829\n",
      "epoch 124000 loss 2778.334475\n",
      "epoch 125000 loss 2778.086165\n",
      "epoch 126000 loss 2777.846552\n",
      "epoch 127000 loss 2777.615307\n",
      "epoch 128000 loss 2777.392111\n",
      "epoch 129000 loss 2777.176658\n",
      "epoch 130000 loss 2776.968655\n",
      "epoch 131000 loss 2776.767821\n",
      "epoch 132000 loss 2776.573885\n",
      "epoch 133000 loss 2776.386586\n",
      "epoch 134000 loss 2776.205675\n",
      "epoch 135000 loss 2776.030911\n",
      "epoch 136000 loss 2775.862065\n",
      "epoch 137000 loss 2775.698914\n",
      "epoch 138000 loss 2775.541246\n",
      "epoch 139000 loss 2775.388855\n",
      "epoch 140000 loss 2775.241546\n",
      "epoch 141000 loss 2775.099129\n",
      "epoch 142000 loss 2774.961422\n",
      "epoch 143000 loss 2774.828251\n",
      "epoch 144000 loss 2774.699448\n",
      "epoch 145000 loss 2774.574851\n",
      "epoch 146000 loss 2774.454306\n",
      "epoch 147000 loss 2774.337662\n",
      "epoch 148000 loss 2774.224778\n",
      "epoch 149000 loss 2774.115514\n",
      "epoch 150000 loss 2774.009738\n",
      "epoch 151000 loss 2773.907322\n",
      "epoch 152000 loss 2773.808144\n",
      "epoch 153000 loss 2773.712086\n",
      "epoch 154000 loss 2773.619035\n",
      "epoch 155000 loss 2773.528880\n",
      "epoch 156000 loss 2773.441518\n",
      "epoch 157000 loss 2773.356846\n",
      "epoch 158000 loss 2773.274769\n",
      "epoch 159000 loss 2773.195192\n",
      "epoch 160000 loss 2773.118025\n",
      "epoch 161000 loss 2773.043182\n",
      "epoch 162000 loss 2772.970579\n",
      "epoch 163000 loss 2772.900136\n",
      "epoch 164000 loss 2772.831777\n",
      "epoch 165000 loss 2772.765426\n",
      "epoch 166000 loss 2772.701012\n",
      "epoch 167000 loss 2772.638467\n",
      "epoch 168000 loss 2772.577724\n",
      "epoch 169000 loss 2772.518719\n",
      "epoch 170000 loss 2772.461392\n",
      "epoch 171000 loss 2772.405682\n",
      "epoch 172000 loss 2772.351533\n",
      "epoch 173000 loss 2772.298890\n",
      "epoch 174000 loss 2772.247701\n",
      "epoch 175000 loss 2772.197914\n",
      "epoch 176000 loss 2772.149480\n",
      "epoch 177000 loss 2772.102353\n",
      "epoch 178000 loss 2772.056487\n",
      "epoch 179000 loss 2772.011838\n",
      "epoch 180000 loss 2771.968364\n",
      "epoch 181000 loss 2771.926024\n",
      "epoch 182000 loss 2771.884780\n",
      "epoch 183000 loss 2771.844593\n",
      "epoch 184000 loss 2771.805428\n",
      "epoch 185000 loss 2771.767249\n",
      "epoch 186000 loss 2771.730022\n",
      "epoch 187000 loss 2771.693715\n",
      "epoch 188000 loss 2771.658298\n",
      "epoch 189000 loss 2771.623738\n",
      "epoch 190000 loss 2771.590008\n",
      "epoch 191000 loss 2771.557079\n",
      "epoch 192000 loss 2771.524925\n",
      "epoch 193000 loss 2771.493519\n",
      "epoch 194000 loss 2771.462835\n",
      "epoch 195000 loss 2771.432851\n",
      "epoch 196000 loss 2771.403542\n",
      "epoch 197000 loss 2771.374886\n",
      "epoch 198000 loss 2771.346861\n",
      "epoch 199000 loss 2771.319446\n",
      "{'w': array([[  10.56614624],\n",
      "       [-236.41316855],\n",
      "       [ 481.51531514],\n",
      "       [ 294.45953619],\n",
      "       [ -60.99329245],\n",
      "       [-110.54103367],\n",
      "       [-206.4398129 ],\n",
      "       [ 163.23399819],\n",
      "       [ 409.2884923 ],\n",
      "       [  65.73391248]]), 'b': 150.81454683536418}\n"
     ]
    }
   ],
   "source": [
    "loss_his, params, grads = linear_train(X_train, y_train, 0.01, 200000)\n",
    "print(params)"
   ]
  },
  {
   "cell_type": "code",
   "execution_count": 16,
   "metadata": {},
   "outputs": [],
   "source": [
    "def predict(X, params):\n",
    "    y_pred = np.dot(X, params['w']) + params['b']\n",
    "    return y_pred\n",
    "\n",
    "y_pred = predict(X_test, params)"
   ]
  },
  {
   "cell_type": "code",
   "execution_count": 17,
   "metadata": {},
   "outputs": [
    {
     "data": {
      "text/plain": [
       "0.5334204628881214"
      ]
     },
     "execution_count": 17,
     "metadata": {},
     "output_type": "execute_result"
    }
   ],
   "source": [
    "### 定义R2系数函数\n",
    "def r2_score(y_test, y_pred):\n",
    "    '''\n",
    "    输入：\n",
    "    y_test：测试集标签值\n",
    "    y_pred：测试集预测值\n",
    "    输出：\n",
    "    r2：R2系数\n",
    "    '''\n",
    "    # 测试标签均值\n",
    "    y_avg = np.mean(y_test)\n",
    "    # 总离差平方和\n",
    "    ss_tot = np.sum((y_test - y_avg)**2)\n",
    "    # 残差平方和\n",
    "    ss_res = np.sum((y_test - y_pred)**2)\n",
    "    # R2计算\n",
    "    r2 = 1 - (ss_res/ss_tot)\n",
    "    return r2\n",
    "\n",
    "r2_score(y_test, y_pred)"
   ]
  },
  {
   "cell_type": "code",
   "execution_count": 18,
   "metadata": {},
   "outputs": [
    {
     "data": {
      "image/png": "[encoded data removed]",
      "text/plain": [
       "<Figure size 640x480 with 1 Axes>"
      ]
     },
     "metadata": {},
     "output_type": "display_data"
    }
   ],
   "source": [
    "import matplotlib.pyplot as plt\n",
    "f = X_test.dot(params['w']) + params['b']\n",
    "\n",
    "plt.scatter(range(X_test.shape[0]), y_test)\n",
    "plt.plot(f, color = 'darkorange')\n",
    "plt.xlabel('X_test')\n",
    "plt.ylabel('y_test')\n",
    "plt.show();"
   ]
  },
  {
   "cell_type": "code",
   "execution_count": 19,
   "metadata": {},
   "outputs": [
    {
     "data": {
      "image/png": "[encoded data removed]",
      "text/plain": [
       "<Figure size 640x480 with 1 Axes>"
      ]
     },
     "metadata": {},
     "output_type": "display_data"
    }
   ],
   "source": [
    "plt.plot(loss_his, color='blue')\n",
    "plt.xlabel('epochs')\n",
    "plt.ylabel('loss')\n",
    "plt.show()"
   ]
  },
  {
   "cell_type": "code",
   "execution_count": 20,
   "metadata": {},
   "outputs": [
    {
     "data": {
      "text/plain": [
       "0.5392099922850235"
      ]
     },
     "execution_count": 20,
     "metadata": {},
     "output_type": "execute_result"
    }
   ],
   "source": [
    "from sklearn import linear_model\n",
    "from sklearn.metrics import mean_squared_error, r2_score\n",
    "\n",
    "model = linear_model.LinearRegression()\n",
    "model.fit(X_train, y_train)\n",
    "y_pred = model.predict(X_test)\n",
    "r2_score(y_test, y_pred)"
   ]
  },
  {
   "cell_type": "code",
   "execution_count": 21,
   "metadata": {},
   "outputs": [
    {
     "data": {
      "text/plain": [
       "3371.8700029390257"
      ]
     },
     "execution_count": 21,
     "metadata": {},
     "output_type": "execute_result"
    }
   ],
   "source": [
    "mean_squared_error(y_test, y_pred)"
   ]
  },
  {
   "cell_type": "code",
   "execution_count": null,
   "metadata": {},
   "outputs": [],
   "source": []
  }
 ],
 "metadata": {
  "kernelspec": {
   "display_name": "Python 3",
   "language": "python",
   "name": "python3"
  },
  "language_info": {
   "codemirror_mode": {
    "name": "ipython",
    "version": 3
   },
   "file_extension": ".py",
   "mimetype": "text/x-python",
   "name": "python",
   "nbconvert_exporter": "python",
   "pygments_lexer": "ipython3",
   "version": "3.10.13"
  }
 },
 "nbformat": 4,
 "nbformat_minor": 2
}
